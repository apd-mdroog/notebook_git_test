{
 "metadata": {
  "kernelspec": {
   "display_name": "Streamlit Notebook",
   "name": "streamlit"
  },
  "lastEditStatus": {
   "notebookId": "iyiqpfoowdmjw4dwxsdn",
   "authorId": "1365413488698",
   "authorName": "MIKEDROOG",
   "authorEmail": "mike.droog@aimpointdigital.com",
   "sessionId": "b4307dbc-e292-4fce-9749-a79c4f0816aa",
   "lastEditTime": 1750253528015
  }
 },
 "nbformat_minor": 5,
 "nbformat": 4,
 "cells": [
  {
   "cell_type": "code",
   "id": "c695373e-ac74-4b62-a1f1-08206cbd5c81",
   "metadata": {
    "language": "sql",
    "name": "cell1"
   },
   "source": "CREATE TABLE IF NOT EXISTS mikedroog.kafka.timestamp_log (inserted_at TIMESTAMP);",
   "execution_count": null,
   "outputs": []
  },
  {
   "cell_type": "code",
   "id": "07d4f7f6-13ad-4509-a0c5-0c5641860b7f",
   "metadata": {
    "language": "sql",
    "name": "cell2"
   },
   "outputs": [],
   "source": "-- Block 2: Insert current timestamp\nINSERT INTO mikedroog.kafka.timestamp_log VALUES (CURRENT_TIMESTAMP);",
   "execution_count": null
  },
  {
   "cell_type": "code",
   "id": "19835b37-7419-480f-bd34-8ca6d0e57516",
   "metadata": {
    "language": "sql",
    "name": "cell3"
   },
   "outputs": [],
   "source": "SELECT * FROM mikedroog.kafka.timestamp_log",
   "execution_count": null
  }
 ]
}